{
 "cells": [
  {
   "cell_type": "markdown",
   "metadata": {},
   "source": [
    "### Importaciones y descarga"
   ]
  },
  {
   "cell_type": "code",
   "execution_count": null,
   "metadata": {},
   "outputs": [],
   "source": [
    "!pip install spacy\n",
    "!pyhton -m spacydownload es_core_news_sm"
   ]
  },
  {
   "cell_type": "code",
   "execution_count": 1,
   "metadata": {},
   "outputs": [],
   "source": [
    "#Librerias (import)\n",
    "import numpy as np\n",
    "import pandas as pd"
   ]
  },
  {
   "cell_type": "code",
   "execution_count": null,
   "metadata": {},
   "outputs": [],
   "source": [
    "df = pd.read_excel('Corpus-Agro.xlsx')\n",
    "df.head()"
   ]
  },
  {
   "cell_type": "markdown",
   "metadata": {},
   "source": [
    "### Analisis Morfologico "
   ]
  },
  {
   "cell_type": "code",
   "execution_count": null,
   "metadata": {},
   "outputs": [],
   "source": [
    "import es_core_news_sm\n",
    "from string import punctuation"
   ]
  },
  {
   "cell_type": "code",
   "execution_count": null,
   "metadata": {},
   "outputs": [],
   "source": [
    "#Leer el archivo de texto en español (ajuste ingles)\n",
    "def LeerTexto(NombreArchivo):\n",
    "    f = open(NombreArchivo, 'r', encoding=\"utf8\")\n",
    "    texto = f.read().split('.')\n",
    "    f.close()\n",
    "    return(texto)"
   ]
  },
  {
   "cell_type": "code",
   "execution_count": null,
   "metadata": {},
   "outputs": [],
   "source": [
    "#Lematzacion, generamos los lemas\n",
    "def Lematizar(oracion):\n",
    "   doc = nlp(oracion)\n",
    "   lemas = [token.lemma_ for token in doc]\n",
    "   return(\" \".join(lemas))  "
   ]
  },
  {
   "cell_type": "code",
   "execution_count": null,
   "metadata": {},
   "outputs": [],
   "source": [
    "#Cargamos los datos\n",
    "NOMBRE_ARCHIVO='sample.txt'\n",
    "nlp       = es_core_news_sm.load()\n",
    "\n",
    "#Leemos el texto \n",
    "oraciones = LeerTexto(NOMBRE_ARCHIVO)\n",
    "print(oraciones)"
   ]
  },
  {
   "cell_type": "code",
   "execution_count": null,
   "metadata": {},
   "outputs": [],
   "source": [
    "#Mostramos lista de con las oraciones lematizadas\n",
    "texto_lematizado  = [Lematizar(oracion) for oracion in oraciones]\n",
    "print(texto_lematizado)"
   ]
  },
  {
   "cell_type": "markdown",
   "metadata": {},
   "source": [
    "### Analisis Lexico"
   ]
  },
  {
   "cell_type": "code",
   "execution_count": null,
   "metadata": {},
   "outputs": [],
   "source": [
    "import es_core_news_sm\n",
    "import re"
   ]
  },
  {
   "cell_type": "code",
   "execution_count": null,
   "metadata": {},
   "outputs": [],
   "source": [
    "#Definimos la funcion de etiquetado de texto\n",
    "def Etiquetar(texto):\n",
    "   doc = nlp(texto)\n",
    "   Etiquetado = ''.join(t.text+\"/\"+t.pos_+\" \" for t in doc)\n",
    "   return(Etiquetado.rstrip())"
   ]
  },
  {
   "cell_type": "code",
   "execution_count": null,
   "metadata": {},
   "outputs": [],
   "source": [
    "#inicia variables y metodos\n",
    "NombreArchivo='sample.txt'  \n",
    "nlp = es_core_news_sm.load()\n",
    "\n",
    "#Etiquetamos\n",
    "texto = open(NombreArchivo, 'r',encoding=\"utf8\").read()\n",
    "texto_etiquetado = Etiquetar(texto)"
   ]
  },
  {
   "cell_type": "code",
   "execution_count": null,
   "metadata": {},
   "outputs": [],
   "source": [
    "#Extraemos tiodas las palabras de etiquetas\n",
    "\n",
    "# La expresión para cualquier palabra es: \"(\\w+)\"\n",
    "Calces  = re.findall(\"(\\w+)/NOUN\",texto_etiquetado)\n",
    "print(Calces)"
   ]
  }
 ],
 "metadata": {
  "kernelspec": {
   "display_name": "Python 3",
   "language": "python",
   "name": "python3"
  },
  "language_info": {
   "codemirror_mode": {
    "name": "ipython",
    "version": 3
   },
   "file_extension": ".py",
   "mimetype": "text/x-python",
   "name": "python",
   "nbconvert_exporter": "python",
   "pygments_lexer": "ipython3",
   "version": "3.10.4"
  }
 },
 "nbformat": 4,
 "nbformat_minor": 2
}
